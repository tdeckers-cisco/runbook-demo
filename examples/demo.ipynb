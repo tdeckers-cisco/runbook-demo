{
 "cells": [
  {
   "cell_type": "markdown",
   "metadata": {},
   "source": [
    "# Demo runbook\n",
    "\n"
   ]
  },
  {
   "cell_type": "code",
   "execution_count": 3,
   "metadata": {},
   "outputs": [
    {
     "name": "stdout",
     "output_type": "stream",
     "text": [
      "Hello World!\n"
     ]
    }
   ],
   "source": [
    "print(\"Hello World!\")"
   ]
  },
  {
   "cell_type": "code",
   "execution_count": 8,
   "metadata": {},
   "outputs": [],
   "source": [
    "# Basic setup code\n",
    "# TODO: hide this code in the notebook\n",
    "\n",
    "from esp.auth.sts_auth import SecuredTrustServiceAuth\n",
    "from esp.snow import Client\n",
    "import getpass\n",
    "username = input('Enter your username')\n",
    "password = getpass.getpass('Enter your password')\n",
    "\n",
    "sts_auth = SecuredTrustServiceAuth(\n",
    "    sts_uri='https://cloudsso-test.cisco.com/idp/sts.wst',\n",
    "    instance='ciscostage',\n",
    "    ws_user='tdeckers',\n",
    "    ws_password=password\n",
    "    )\n",
    "\n",
    "esp_client = Client(sts_auth)"
   ]
  },
  {
   "cell_type": "code",
   "execution_count": 12,
   "metadata": {},
   "outputs": [],
   "source": [
    "change_id = 'CHG1160362'"
   ]
  },
  {
   "cell_type": "markdown",
   "metadata": {},
   "source": [
    "### Execute the Change\n",
    "\n",
    "1. Mark CR as in progress (demo: add comment to CR)"
   ]
  },
  {
   "cell_type": "code",
   "execution_count": 22,
   "metadata": {},
   "outputs": [
    {
     "name": "stdout",
     "output_type": "stream",
     "text": [
      "[{'opened_by.user_name': 'iac_esp.gen', 'number': 'CHG1160362', 'state': 'Closed'}]\n"
     ]
    },
    {
     "data": {
      "text/plain": [
       "'CHG1160362: Comments added to Change Request Successfully.'"
      ]
     },
     "execution_count": 22,
     "metadata": {},
     "output_type": "execute_result"
    }
   ],
   "source": [
    "from esp.cisit.change import Change\n",
    "# Get the change request details\n",
    "fields = ['state', 'opened_by.user_name', 'number', 'state']\n",
    "change_api = Change(esp_client)\n",
    "cr = change_api.find(change_id, fields)\n",
    "print(cr)\n",
    "\n",
    "# Update comments\n",
    "change_api.update_work_notes(change_id, 'This is a test comment')\n"
   ]
  },
  {
   "cell_type": "markdown",
   "metadata": {},
   "source": [
    "2. Perform some network ops action\n",
    "\n",
    "Ping the device\n"
   ]
  },
  {
   "cell_type": "code",
   "execution_count": 35,
   "metadata": {},
   "outputs": [
    {
     "data": {
      "text/plain": [
       "0.039011240005493164"
      ]
     },
     "execution_count": 35,
     "metadata": {},
     "output_type": "execute_result"
    }
   ],
   "source": [
    "from ping3 import ping\n",
    "ping('google.com')  # Returns delay in seconds."
   ]
  },
  {
   "cell_type": "markdown",
   "metadata": {},
   "source": [
    "Ensure IPSLA is configured and shows an OK return code."
   ]
  }
 ],
 "metadata": {
  "kernelspec": {
   "display_name": "Python 3 (ipykernel)",
   "language": "python",
   "name": "python3"
  },
  "language_info": {
   "codemirror_mode": {
    "name": "ipython",
    "version": 3
   },
   "file_extension": ".py",
   "mimetype": "text/x-python",
   "name": "python",
   "nbconvert_exporter": "python",
   "pygments_lexer": "ipython3",
   "version": "3.10.11"
  },
  "orig_nbformat": 4
 },
 "nbformat": 4,
 "nbformat_minor": 2
}
